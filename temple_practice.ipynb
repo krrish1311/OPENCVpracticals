{
 "cells": [
  {
   "cell_type": "code",
   "execution_count": 27,
   "metadata": {},
   "outputs": [],
   "source": [
    "import cv2\n",
    "import numpy as np"
   ]
  },
  {
   "cell_type": "code",
   "execution_count": 28,
   "metadata": {},
   "outputs": [],
   "source": [
    "temple =np.zeros((700,500,3),np.uint8)"
   ]
  },
  {
   "cell_type": "code",
   "execution_count": 29,
   "metadata": {},
   "outputs": [],
   "source": [
    "temple[:,:]=(255,255,225)"
   ]
  },
  {
   "cell_type": "code",
   "execution_count": 30,
   "metadata": {},
   "outputs": [],
   "source": [
    "cv2.imshow(\"hi\" ,temple)\n",
    "cv2.waitKey()\n",
    "cv2.destroyAllWindows()"
   ]
  },
  {
   "cell_type": "code",
   "execution_count": 31,
   "metadata": {},
   "outputs": [],
   "source": [
    "temple=cv2.rectangle(temple,(99,299),(399,699),[140,230,240],-1)"
   ]
  },
  {
   "cell_type": "code",
   "execution_count": 32,
   "metadata": {},
   "outputs": [],
   "source": [
    "cv2.imshow(\"hi\" ,temple)\n",
    "cv2.waitKey()\n",
    "cv2.destroyAllWindows()"
   ]
  },
  {
   "cell_type": "code",
   "execution_count": 33,
   "metadata": {},
   "outputs": [],
   "source": [
    "temple=cv2.rectangle(temple,(149,399),(349,699),[255,255,255],-1)"
   ]
  },
  {
   "cell_type": "code",
   "execution_count": 34,
   "metadata": {},
   "outputs": [],
   "source": [
    "cv2.imshow(\"hi\" ,temple)\n",
    "cv2.waitKey()\n",
    "cv2.destroyAllWindows()"
   ]
  },
  {
   "cell_type": "code",
   "execution_count": 35,
   "metadata": {},
   "outputs": [],
   "source": [
    "temple=cv2.line(temple,(149,149),(349,149),[0,0,255],5)"
   ]
  },
  {
   "cell_type": "code",
   "execution_count": 36,
   "metadata": {},
   "outputs": [],
   "source": [
    "cv2.imshow(\"hi\" ,temple)\n",
    "cv2.waitKey()\n",
    "cv2.destroyAllWindows()"
   ]
  },
  {
   "cell_type": "code",
   "execution_count": 37,
   "metadata": {},
   "outputs": [],
   "source": [
    "temple=cv2.line(temple,(149,149),(99,299),[0,0,255],5)"
   ]
  },
  {
   "cell_type": "code",
   "execution_count": 38,
   "metadata": {},
   "outputs": [],
   "source": [
    "cv2.imshow(\"hi\" ,temple)\n",
    "cv2.waitKey()\n",
    "cv2.destroyAllWindows()"
   ]
  },
  {
   "cell_type": "code",
   "execution_count": 39,
   "metadata": {},
   "outputs": [],
   "source": [
    "temple=cv2.line(temple,(349,149),(399,299),[0,0,255],5)"
   ]
  },
  {
   "cell_type": "code",
   "execution_count": 40,
   "metadata": {},
   "outputs": [],
   "source": [
    "cv2.imshow(\"hi\" ,temple)\n",
    "cv2.waitKey()\n",
    "cv2.destroyAllWindows()"
   ]
  },
  {
   "cell_type": "code",
   "execution_count": 41,
   "metadata": {},
   "outputs": [],
   "source": [
    "temple=cv2.rectangle(temple,(247,49),(251,149),[0,70,255],3)"
   ]
  },
  {
   "cell_type": "code",
   "execution_count": 42,
   "metadata": {},
   "outputs": [],
   "source": [
    "cv2.imshow(\"hi\" ,temple)\n",
    "cv2.waitKey()\n",
    "cv2.destroyAllWindows()"
   ]
  },
  {
   "cell_type": "code",
   "execution_count": 43,
   "metadata": {},
   "outputs": [],
   "source": [
    "temple=cv2.rectangle(temple,(197,49),(247,49),[0,0,255],3)"
   ]
  },
  {
   "cell_type": "code",
   "execution_count": 44,
   "metadata": {},
   "outputs": [],
   "source": [
    "cv2.imshow(\"hi\" ,temple)\n",
    "cv2.waitKey()\n",
    "cv2.destroyAllWindows()"
   ]
  },
  {
   "cell_type": "code",
   "execution_count": 45,
   "metadata": {},
   "outputs": [],
   "source": [
    "temple=cv2.rectangle(temple,(197,74),(247,74),[0,0,255],3)\n",
    "cv2.imshow(\"hi\" ,temple)\n",
    "cv2.waitKey()\n",
    "cv2.destroyAllWindows()"
   ]
  },
  {
   "cell_type": "code",
   "execution_count": 46,
   "metadata": {},
   "outputs": [],
   "source": [
    "temple=cv2.line(temple,(197,49),(217,61),[0,0,255],3)\n",
    "temple=cv2.line(temple,(197,74),(217,61),[0,0,255],3)\n",
    "cv2.imshow(\"hi\" ,temple)\n",
    "cv2.waitKey()\n",
    "cv2.destroyAllWindows()"
   ]
  },
  {
   "cell_type": "code",
   "execution_count": 47,
   "metadata": {},
   "outputs": [],
   "source": [
    "\n",
    "pt1 = (149,149)\n",
    "pt2 = (149,299)\n",
    "pt3 = (99,299)\n",
    "cv2.circle(temple, pt1, 2, (0,140,255), -1)\n",
    "cv2.circle(temple, pt2, 2, (0,140,255), -1)\n",
    "cv2.circle(temple, pt3, 2, (0,140,255), -1)\n",
    "triangle_cnt = np.array( [pt1, pt2, pt3] )\n",
    "\n",
    "cv2.drawContours(temple, [triangle_cnt], 0, (0,140,255), -1)\n",
    "c1 = (349,149)\n",
    "c2 = (349,299)\n",
    "c3 = (399,299)\n",
    "cv2.circle(temple, c1, 2, (0,140,255), -1)\n",
    "cv2.circle(temple, c2, 2, (0,140,255), -1)\n",
    "cv2.circle(temple, c3, 2, (0,140,255), -1)\n",
    "triangle_cnt = np.array( [c1, c2, c3] )\n",
    "\n",
    "cv2.drawContours(temple, [triangle_cnt], 0, (0,140,255), -1)\n",
    "\n",
    "cv2.imshow(\"hi\" ,temple)\n",
    "cv2.waitKey()\n",
    "cv2.destroyAllWindows()"
   ]
  },
  {
   "cell_type": "code",
   "execution_count": 48,
   "metadata": {},
   "outputs": [],
   "source": [
    "temple=cv2.rectangle(temple,(149,149),(349,299),[0,140,255],-1)"
   ]
  },
  {
   "cell_type": "code",
   "execution_count": 49,
   "metadata": {},
   "outputs": [],
   "source": [
    "cv2.imshow(\"hi\" ,temple)\n",
    "cv2.waitKey()\n",
    "cv2.destroyAllWindows()"
   ]
  },
  {
   "cell_type": "code",
   "execution_count": null,
   "metadata": {},
   "outputs": [],
   "source": [
    "pt1 = (197,49)\n",
    "pt2 = (247,49) \n",
    "pt3 = (247,74)\n",
    "cv2.circle(temple, pt1, 2, (0,140,255), -1)\n",
    "cv2.circle(temple, pt2, 2, (0,140,255), -1) \n",
    "cv2.circle(temple, pt3, 2, (0,140,255), -1) \n",
    "triangle_cnt = np.array( [pt1, pt2, pt3] )\n",
    "\n",
    "cv2.drawContours(temple, [triangle_cnt], 0, (0,140,255), -1)\n",
    "c1 = (197,74) c2 = (247,74) c3 = (247,49) cv2.circle(temple, c1, 2, (0,140,255), -1) cv2.circle(temple, c2, 2, (0,140,255), -1) cv2.circle(temple, c3, 2, (0,140,255), -1) triangle_cnt = np.array( [c1, c2, c3] )\n",
    "\n",
    "cv2.drawContours(temple, [triangle_cnt], 0, (0,140,255), -1)\n",
    "\n",
    "cv2.imshow(\"hi\" ,temple) cv2.waitKey() cv2.destroyAllWindows()"
   ]
  },
  {
   "cell_type": "markdown",
   "metadata": {},
   "source": [
    "pt1 = (197,49)\n",
    "pt2 = (247,49)\n",
    "pt3 = (247,74)\n",
    "cv2.circle(temple, pt1, 2, (0,140,255), -1)\n",
    "cv2.circle(temple, pt2, 2, (0,140,255), -1)\n",
    "cv2.circle(temple, pt3, 2, (0,140,255), -1)\n",
    "triangle_cnt = np.array( [pt1, pt2, pt3] )\n",
    "\n",
    "cv2.drawContours(temple, [triangle_cnt], 0, (0,140,255), -1)\n",
    "c1 = (197,74)\n",
    "c2 = (247,74)\n",
    "c3 = (247,49)\n",
    "cv2.circle(temple, c1, 2, (0,140,255), -1)\n",
    "cv2.circle(temple, c2, 2, (0,140,255), -1)\n",
    "cv2.circle(temple, c3, 2, (0,140,255), -1)\n",
    "triangle_cnt = np.array( [c1, c2, c3] )\n",
    "\n",
    "cv2.drawContours(temple, [triangle_cnt], 0, (0,140,255), -1)\n",
    "\n",
    "cv2.imshow(\"hi\" ,temple)\n",
    "cv2.waitKey()\n",
    "cv2.destroyAllWindows()"
   ]
  },
  {
   "cell_type": "code",
   "execution_count": 50,
   "metadata": {},
   "outputs": [],
   "source": [
    "\n",
    "temple=cv2.line(temple,(99,299),(99,699),[0,0,255],5)\n",
    "temple=cv2.line(temple,(149,399),(149,699),[0,0,255],5)\n",
    "temple=cv2.line(temple,(349,399),(349,699),[0,0,255],5)\n",
    "temple=cv2.line(temple,(399,299),(399,699),[0,0,255],5)\n",
    "temple=cv2.line(temple,(99,299),(399,299),[0,0,255],5)\n",
    "temple=cv2.line(temple,(149,399),(349,399),[0,0,255],5)\n"
   ]
  },
  {
   "cell_type": "code",
   "execution_count": 51,
   "metadata": {},
   "outputs": [],
   "source": [
    "matry = temple"
   ]
  },
  {
   "cell_type": "code",
   "execution_count": 52,
   "metadata": {},
   "outputs": [],
   "source": [
    "matry[99:399 , 299:699] = (255,255,255)\n",
    "matry[149:349 , 399:699] = (0,140,255)\n",
    "final=[matry,temple]"
   ]
  },
  {
   "cell_type": "code",
   "execution_count": 53,
   "metadata": {},
   "outputs": [],
   "source": [
    "i=1\n",
    "j=1"
   ]
  },
  {
   "cell_type": "code",
   "execution_count": 54,
   "metadata": {},
   "outputs": [],
   "source": [
    "while i>0 :\n",
    "    i=1\n",
    "    j=1\n",
    "    cv2.imshow('hi', final[i&j])\n",
    "    if cv2.waitKey(10) == 13:\n",
    "            break\n",
    "    if i!=j :\n",
    "        i=i+1\n",
    "    else :\n",
    "        j=j+1\n",
    "    \n",
    "cv2.destroyAllWindows()"
   ]
  },
  {
   "cell_type": "code",
   "execution_count": 55,
   "metadata": {},
   "outputs": [],
   "source": [
    "cv2.imshow(\"hi\" ,temple)\n",
    "cv2.waitKey()\n",
    "cv2.destroyAllWindows()"
   ]
  },
  {
   "cell_type": "code",
   "execution_count": null,
   "metadata": {},
   "outputs": [],
   "source": []
  }
 ],
 "metadata": {
  "kernelspec": {
   "display_name": "Python 3",
   "language": "python",
   "name": "python3"
  },
  "language_info": {
   "codemirror_mode": {
    "name": "ipython",
    "version": 3
   },
   "file_extension": ".py",
   "mimetype": "text/x-python",
   "name": "python",
   "nbconvert_exporter": "python",
   "pygments_lexer": "ipython3",
   "version": "3.8.5"
  }
 },
 "nbformat": 4,
 "nbformat_minor": 4
}
