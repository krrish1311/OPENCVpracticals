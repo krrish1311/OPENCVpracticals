{
 "cells": [
  {
   "cell_type": "code",
   "execution_count": 34,
   "metadata": {},
   "outputs": [],
   "source": [
    "import numpy as np\n",
    "import cv2"
   ]
  },
  {
   "cell_type": "code",
   "execution_count": 35,
   "metadata": {},
   "outputs": [],
   "source": [
    "india = np.zeros((350,600,3),np.uint8)"
   ]
  },
  {
   "cell_type": "code",
   "execution_count": 36,
   "metadata": {},
   "outputs": [],
   "source": [
    "india[:,:] = (88,199,241)"
   ]
  },
  {
   "cell_type": "code",
   "execution_count": 37,
   "metadata": {},
   "outputs": [
    {
     "data": {
      "text/plain": [
       "(350, 600, 3)"
      ]
     },
     "execution_count": 37,
     "metadata": {},
     "output_type": "execute_result"
    }
   ],
   "source": [
    "india.shape"
   ]
  },
  {
   "cell_type": "code",
   "execution_count": 38,
   "metadata": {},
   "outputs": [
    {
     "data": {
      "text/plain": [
       "array([[[ 88, 199, 241],\n",
       "        [ 88, 199, 241],\n",
       "        [ 88, 199, 241],\n",
       "        ...,\n",
       "        [ 88, 199, 241],\n",
       "        [ 88, 199, 241],\n",
       "        [ 88, 199, 241]],\n",
       "\n",
       "       [[ 88, 199, 241],\n",
       "        [ 88, 199, 241],\n",
       "        [ 88, 199, 241],\n",
       "        ...,\n",
       "        [ 88, 199, 241],\n",
       "        [ 88, 199, 241],\n",
       "        [ 88, 199, 241]],\n",
       "\n",
       "       [[ 88, 199, 241],\n",
       "        [ 88, 199, 241],\n",
       "        [ 88, 199, 241],\n",
       "        ...,\n",
       "        [ 88, 199, 241],\n",
       "        [ 88, 199, 241],\n",
       "        [ 88, 199, 241]],\n",
       "\n",
       "       ...,\n",
       "\n",
       "       [[ 88, 199, 241],\n",
       "        [ 88, 199, 241],\n",
       "        [ 88, 199, 241],\n",
       "        ...,\n",
       "        [ 88, 199, 241],\n",
       "        [ 88, 199, 241],\n",
       "        [ 88, 199, 241]],\n",
       "\n",
       "       [[ 88, 199, 241],\n",
       "        [ 88, 199, 241],\n",
       "        [ 88, 199, 241],\n",
       "        ...,\n",
       "        [ 88, 199, 241],\n",
       "        [ 88, 199, 241],\n",
       "        [ 88, 199, 241]],\n",
       "\n",
       "       [[ 88, 199, 241],\n",
       "        [ 88, 199, 241],\n",
       "        [ 88, 199, 241],\n",
       "        ...,\n",
       "        [ 88, 199, 241],\n",
       "        [ 88, 199, 241],\n",
       "        [ 88, 199, 241]]], dtype=uint8)"
      ]
     },
     "execution_count": 38,
     "metadata": {},
     "output_type": "execute_result"
    }
   ],
   "source": [
    "india"
   ]
  },
  {
   "cell_type": "code",
   "execution_count": 39,
   "metadata": {},
   "outputs": [],
   "source": [
    "cv2.imshow('hi', india)\n",
    "cv2.waitKey()\n",
    "cv2.destroyAllWindows()"
   ]
  },
  {
   "cell_type": "code",
   "execution_count": 40,
   "metadata": {},
   "outputs": [],
   "source": [
    "india[100:150,50:350] = (44,165,255)"
   ]
  },
  {
   "cell_type": "code",
   "execution_count": 41,
   "metadata": {},
   "outputs": [],
   "source": [
    "cv2.imshow('hi', india)\n",
    "cv2.waitKey()\n",
    "cv2.destroyAllWindows()"
   ]
  },
  {
   "cell_type": "code",
   "execution_count": 42,
   "metadata": {},
   "outputs": [],
   "source": [
    "india[150:200,50:350] = (255,255,255)"
   ]
  },
  {
   "cell_type": "code",
   "execution_count": 43,
   "metadata": {},
   "outputs": [],
   "source": [
    "cv2.imshow('hi', india)\n",
    "cv2.waitKey()\n",
    "cv2.destroyAllWindows()"
   ]
  },
  {
   "cell_type": "code",
   "execution_count": 44,
   "metadata": {},
   "outputs": [],
   "source": [
    "india[200:250,50:350] = (0,255,0)"
   ]
  },
  {
   "cell_type": "code",
   "execution_count": 45,
   "metadata": {},
   "outputs": [],
   "source": [
    "cv2.imshow('hi', india)\n",
    "cv2.waitKey()\n",
    "cv2.destroyAllWindows()"
   ]
  },
  {
   "cell_type": "code",
   "execution_count": 46,
   "metadata": {},
   "outputs": [
    {
     "data": {
      "text/plain": [
       "array([[[ 88, 199, 241],\n",
       "        [ 88, 199, 241],\n",
       "        [ 88, 199, 241],\n",
       "        ...,\n",
       "        [ 88, 199, 241],\n",
       "        [ 88, 199, 241],\n",
       "        [ 88, 199, 241]],\n",
       "\n",
       "       [[ 88, 199, 241],\n",
       "        [ 88, 199, 241],\n",
       "        [ 88, 199, 241],\n",
       "        ...,\n",
       "        [ 88, 199, 241],\n",
       "        [ 88, 199, 241],\n",
       "        [ 88, 199, 241]],\n",
       "\n",
       "       [[ 88, 199, 241],\n",
       "        [ 88, 199, 241],\n",
       "        [ 88, 199, 241],\n",
       "        ...,\n",
       "        [ 88, 199, 241],\n",
       "        [ 88, 199, 241],\n",
       "        [ 88, 199, 241]],\n",
       "\n",
       "       ...,\n",
       "\n",
       "       [[ 88, 199, 241],\n",
       "        [ 88, 199, 241],\n",
       "        [ 88, 199, 241],\n",
       "        ...,\n",
       "        [ 88, 199, 241],\n",
       "        [ 88, 199, 241],\n",
       "        [ 88, 199, 241]],\n",
       "\n",
       "       [[ 88, 199, 241],\n",
       "        [ 88, 199, 241],\n",
       "        [ 88, 199, 241],\n",
       "        ...,\n",
       "        [ 88, 199, 241],\n",
       "        [ 88, 199, 241],\n",
       "        [ 88, 199, 241]],\n",
       "\n",
       "       [[ 88, 199, 241],\n",
       "        [ 88, 199, 241],\n",
       "        [ 88, 199, 241],\n",
       "        ...,\n",
       "        [ 88, 199, 241],\n",
       "        [ 88, 199, 241],\n",
       "        [ 88, 199, 241]]], dtype=uint8)"
      ]
     },
     "execution_count": 46,
     "metadata": {},
     "output_type": "execute_result"
    }
   ],
   "source": [
    "cv2.circle(india,(200,175),(25),[255,0,0],5)"
   ]
  },
  {
   "cell_type": "code",
   "execution_count": 47,
   "metadata": {},
   "outputs": [],
   "source": [
    "cv2.imshow('hi', india)\n",
    "cv2.waitKey()\n",
    "cv2.destroyAllWindows()"
   ]
  },
  {
   "cell_type": "code",
   "execution_count": 48,
   "metadata": {},
   "outputs": [],
   "source": [
    "india[150:200,198:202] = (255,0,0)"
   ]
  },
  {
   "cell_type": "code",
   "execution_count": 49,
   "metadata": {},
   "outputs": [],
   "source": [
    "cv2.imshow('hi', india)\n",
    "cv2.waitKey()\n",
    "cv2.destroyAllWindows()"
   ]
  },
  {
   "cell_type": "code",
   "execution_count": 52,
   "metadata": {},
   "outputs": [],
   "source": [
    "india[173:177,175:225] = (255,0,0)"
   ]
  },
  {
   "cell_type": "code",
   "execution_count": 53,
   "metadata": {},
   "outputs": [],
   "source": [
    "cv2.imshow('hi', india)\n",
    "cv2.waitKey()\n",
    "cv2.destroyAllWindows()"
   ]
  },
  {
   "cell_type": "code",
   "execution_count": null,
   "metadata": {},
   "outputs": [],
   "source": []
  },
  {
   "cell_type": "code",
   "execution_count": null,
   "metadata": {},
   "outputs": [],
   "source": []
  }
 ],
 "metadata": {
  "kernelspec": {
   "display_name": "Python 3",
   "language": "python",
   "name": "python3"
  },
  "language_info": {
   "codemirror_mode": {
    "name": "ipython",
    "version": 3
   },
   "file_extension": ".py",
   "mimetype": "text/x-python",
   "name": "python",
   "nbconvert_exporter": "python",
   "pygments_lexer": "ipython3",
   "version": "3.8.5"
  }
 },
 "nbformat": 4,
 "nbformat_minor": 4
}
